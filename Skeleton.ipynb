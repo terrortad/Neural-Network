{
 "cells": [
  {
   "cell_type": "code",
   "execution_count": null,
   "id": "38809922-19c4-4d17-9342-437add851934",
   "metadata": {},
   "outputs": [],
   "source": [
    "import matplotlib.pyplot\n",
    "import numpy"
   ]
  },
  {
   "cell_type": "code",
   "execution_count": null,
   "id": "d25ace97",
   "metadata": {},
   "outputs": [],
   "source": [
    "a = numpy.zeros( [3,2] )\n",
    "print(a)"
   ]
  },
  {
   "cell_type": "code",
   "execution_count": null,
   "id": "6edafbcd",
   "metadata": {},
   "outputs": [],
   "source": [
    "a[0,0] = 1\n",
    "a[0,1] = 2\n",
    "a[1,0] = 9\n",
    "a[2,1] = 12\n",
    "print(a)"
   ]
  },
  {
   "cell_type": "code",
   "execution_count": null,
   "id": "b63bfd66",
   "metadata": {},
   "outputs": [],
   "source": [
    "print(a[0,1])\n",
    "v = a[1,0]\n",
    "print(v)"
   ]
  },
  {
   "cell_type": "code",
   "execution_count": null,
   "id": "a84e5eb0-3161-455e-8bc7-7b80ddb8c913",
   "metadata": {},
   "outputs": [],
   "source": [
    "matplotlib.pyplot.imshow(a, interpolation=\"nearest\")"
   ]
  },
  {
   "cell_type": "code",
   "execution_count": null,
   "id": "8552cc51-58be-45c9-90df-7e3daa1c8e3a",
   "metadata": {},
   "outputs": [],
   "source": [
    "data_file = open(\"mnist_dataset/mnist_train_100.csv\", 'r')\n",
    "data_list = data_file.readlines()\n",
    "data_file.close()"
   ]
  },
  {
   "cell_type": "code",
   "execution_count": null,
   "id": "db30b4fe",
   "metadata": {},
   "outputs": [],
   "source": [
    "len(data_list)"
   ]
  },
  {
   "cell_type": "code",
   "execution_count": null,
   "id": "8e3640b3",
   "metadata": {},
   "outputs": [],
   "source": [
    "import numpy\n",
    "import matplotlib.pyplot\n",
    "%matplotlib inline  \n",
    "\n",
    "# split each character by each comma, and make own string\n",
    "all_values = data_list[0].split(',')\n",
    "\n",
    "\n",
    "# converts pixel values into from strings to float since needed in numeric format to do computation\n",
    "\n",
    "# reshape transforms original 28x28 pixels into 28x28 2D array\n",
    "image_array = numpy.asfarray(all_values[1:]).reshape((28, 28))\n",
    "\n",
    "\n",
    "# plots image_array using imshow() function with greyscale colour palatte cmap = 'Greys'\n",
    "matplotlib.pyplot.imshow(image_array, cmap='Greys', interpolation='None') #\n",
    "\n",
    "print(all_values)"
   ]
  },
  {
   "cell_type": "code",
   "execution_count": null,
   "id": "833111e9",
   "metadata": {},
   "outputs": [],
   "source": [
    "data_list[0]\n",
    "# Fist # is 5, rest of numbers are colour values for the pixels that make up the image."
   ]
  },
  {
   "cell_type": "code",
   "execution_count": null,
   "id": "5470dee6",
   "metadata": {},
   "outputs": [],
   "source": [
    "# asfarray converts strings in all_values into float to process in 2D array,\n",
    "# excluding label and including pixel values\n",
    "\n",
    "# divides each pixel value by 255. \n",
    "# Since the original values are in the range of 0 to 255, this\n",
    "# scales them to the range of 0 to 1\n",
    "# then multiplies each of the now normalized pixel values by 0.99. \n",
    "# this further scales the values to the range of 0 to 0.99.\n",
    "# adds 0.01 to each scaled value. This final adjustment shifts the range from 0-0.99 to 0.01-1.00. \n",
    "\n",
    "scaled_input = (numpy.asfarray(all_values[1:]) / 255.0 * 0.99) + 0.01\n",
    "\n",
    "print(scaled_input)"
   ]
  },
  {
   "cell_type": "code",
   "execution_count": null,
   "id": "0bdf26fe-1fe7-4f38-844f-46c69c9f2286",
   "metadata": {},
   "outputs": [],
   "source": [
    "import numpy\n",
    "import scipy.special\n",
    "class neuralNetwork:\n",
    "\n",
    "    def __init__(self, inputnodes, hiddennodes, outputnodes, learningrate):\n",
    "        # set number of nodes in each input, hidden, output layer\n",
    "        self.inodes = inputnodes\n",
    "        self.hnodes = hiddennodes\n",
    "        self.onodes = outputnodes\n",
    "        # link weight matricies, wih and who\n",
    "        # weights inside arrrays are w_i_j, where link is \n",
    "        # from node i to node j in the next layer\n",
    "        self.wih = numpy.random.normal(0.0, pow(self.inodes, -0.5), (self.hnodes, self.inodes))\n",
    "        self.who = numpy.random.normal(0.0, pow(self.hnodes, -0.5), (self.onodes, self.hnodes))\n",
    "\n",
    "        # learning rate\n",
    "        self.lr = learningrate\n",
    "\n",
    "        # activation function\n",
    "        self.activation_function = lambda x: scipy.special.expit(x)\n",
    "        \n",
    "        pass\n",
    "\n",
    "    # train neural network\n",
    "    def train(self, input_list, target_list):\n",
    "        \n",
    "        # convert inputs list to 2d array\n",
    "        inputs = numpy.array(input_list, ndmin=2).T\n",
    "        targets = numpy.array(target_list, ndmin=2).T\n",
    "\n",
    "        # calculate signals into hidden layer\n",
    "        hidden_inputs = numpy.dot(self.wih, inputs)\n",
    "\n",
    "        # calculate the signals emerging from hidden layer\n",
    "        hidden_outputs = self.activation_function(hidden_inputs)\n",
    "\n",
    "        # calculate signals into final output layer\n",
    "        final_inputs = numpy.dot(self.who, hidden_outputs)\n",
    "\n",
    "        # calculate the signals emerging from final output layer\n",
    "        final_outputs = self.activation_function(final_inputs)\n",
    "\n",
    "        # output layer error is the (target - actual)\n",
    "        output_errors = targets - final_outputs\n",
    "\n",
    "        # hidden layer error is the output_errors, split by weights,\n",
    "        # recombined at hidden nodes\n",
    "        hidden_errors = numpy.dot(self.who.T, output_errors)\n",
    "\n",
    "        # update the weights for the links between the hidden and output layers\n",
    "        self.who += self.lr * numpy.dot(\n",
    "            (output_errors * final_outputs * (1.0 - final_outputs)), \n",
    "            numpy.transpose((hidden_outputs))\n",
    "        )\n",
    "            \n",
    "\n",
    "        # update the weights for the links between the input and hidden layers\n",
    "        self.wih += self.lr * numpy.dot(\n",
    "            (hidden_errors * hidden_outputs *(1.0 - hidden_outputs)), \n",
    "            numpy.transpose((inputs))\n",
    "        )     \n",
    "        \n",
    "        pass\n",
    "\n",
    "    # query neural network\n",
    "    def query(self, input_list):\n",
    "\n",
    "        # convert inputs list to 2d array\n",
    "        inputs = numpy.array(input_list, ndmin=2).T\n",
    "        \n",
    "        # calculate signals into hidden layer\n",
    "        hidden_inputs = numpy.dot(self.wih, inputs)\n",
    "        \n",
    "        # calculate signals emerging from hidden layer\n",
    "        hidden_outputs = self.activation_function(hidden_inputs)\n",
    "\n",
    "        # calculate signals into final output layer\n",
    "        final_inputs = numpy.dot(self.who, hidden_outputs)\n",
    "\n",
    "        # calculate signals emerging from final output layer\n",
    "        final_outputs = self.activation_function(final_inputs)\n",
    "        \n",
    "        return final_outputs"
   ]
  },
  {
   "cell_type": "code",
   "execution_count": 52,
   "id": "5c5f8cf6",
   "metadata": {},
   "outputs": [],
   "source": [
    "\n",
    "test_data_file = open('mnist_dataset/mnist_test.csv', 'r')\n",
    "test_data_list = test_data_file.readlines()\n",
    "test_data_file.close()"
   ]
  },
  {
   "cell_type": "code",
   "execution_count": 53,
   "id": "22a8b702",
   "metadata": {},
   "outputs": [
    {
     "name": "stdout",
     "output_type": "stream",
     "text": [
      "Performance =  0.9516\n"
     ]
    }
   ],
   "source": [
    "# calculate performance score, fraction of correct answers\n",
    "scorecard_array = numpy.asarray(scorecard)\n",
    "\n",
    "print(\"Performance = \", scorecard_array.sum() / scorecard_array.size)\n",
    "\n",
    "# Performance changes from 50% to 94% when training neural network from 100 row dataset to 10,000 record dataset"
   ]
  },
  {
   "cell_type": "code",
   "execution_count": null,
   "id": "c8e5f17a",
   "metadata": {},
   "outputs": [],
   "source": [
    "# Number of input hidden and output nodes\n",
    "input_nodes = 784\n",
    "hidden_nodes = 100\n",
    "output_nodes = 10\n",
    "\n",
    "learning_rate = 0.2\n",
    "\n",
    "# create instance of neural network\n",
    "n = neuralNetwork(input_nodes, hidden_nodes, output_nodes, learning_rate)\n",
    "\n",
    "training_data_file = open(\"mnist_dataset/mnist_train_100.csv\", 'r')\n",
    "training_data_list = training_data_file.readlines()\n",
    "training_data_file.close()\n",
    "\n",
    "# train neural network\n",
    "epochs = 1\n",
    "# go through all records in the training data set\n",
    "for e in range(epochs):\n",
    "    for record in training_data_list:\n",
    "        # split record by commas\n",
    "        all_values = record.split(',')\n",
    "        # scale and shift inputs\n",
    "        inputs = (numpy.asfarray(all_values[1:]) / 255.0 * 0.99) + 0.01\n",
    "        \n",
    "        # create target output values (all 0.01 expect label 0.99)\n",
    "        targets = numpy.zeros(output_nodes) + 0.01\n",
    "\n",
    "        # all_values[0] is target label for this record\n",
    "        targets[int(all_values[0])] = 0.99\n",
    "        n.train(inputs, targets)\n",
    "        pass"
   ]
  },
  {
   "cell_type": "code",
   "execution_count": null,
   "id": "5337317e",
   "metadata": {},
   "outputs": [],
   "source": [
    "# scorecard for how well the network performs, initially empty\n",
    "scorecard = []\n",
    "\n",
    "# go through all the records in the test data set\n",
    "\n",
    "for record in test_data_list:\n",
    "    # split the record by the ',' commas \n",
    "    all_values = record.split(',')\n",
    "    \n",
    "    correct_label = int(all_values[0])\n",
    "    print(correct_label, \"Correct Label\")\n",
    "\n",
    "    # scale and shift the inputs\n",
    "    inputs = (numpy.asfarray(all_values[1:]) / 255.0 * 0.99) + 0.01\n",
    "\n",
    "    # query network\n",
    "    outputs = n.query(inputs)\n",
    "\n",
    "    # index of highest value corresponds to label\n",
    "    label = numpy.argmax(outputs)\n",
    "    print(label, 'Networks Predicted Answer')\n",
    "\n",
    "    # append correct or incorrect to list\n",
    "    if (label == correct_label):\n",
    "        scorecard.append(1)\n",
    "    else:\n",
    "        scorecard.append(0)\n",
    "        pass\n",
    "    pass"
   ]
  },
  {
   "cell_type": "code",
   "execution_count": null,
   "id": "ff5d5261",
   "metadata": {},
   "outputs": [],
   "source": [
    "print(scorecard)"
   ]
  },
  {
   "cell_type": "code",
   "execution_count": 54,
   "id": "52132174",
   "metadata": {},
   "outputs": [
    {
     "name": "stdout",
     "output_type": "stream",
     "text": [
      "7\n"
     ]
    }
   ],
   "source": [
    "all_values = test_data_list[0].split(',')\n",
    "print(all_values[0])"
   ]
  },
  {
   "cell_type": "code",
   "execution_count": 55,
   "id": "572693a4",
   "metadata": {},
   "outputs": [
    {
     "data": {
      "text/plain": [
       "<matplotlib.image.AxesImage at 0x21aff555250>"
      ]
     },
     "execution_count": 55,
     "metadata": {},
     "output_type": "execute_result"
    },
    {
     "data": {
      "image/png": "[encoded data removed]",
      "text/plain": [
       "<Figure size 640x480 with 1 Axes>"
      ]
     },
     "metadata": {},
     "output_type": "display_data"
    }
   ],
   "source": [
    "import matplotlib.pyplot\n",
    "%matplotlib inline\n",
    "\n",
    "image_array = numpy.asfarray(all_values[1:]).reshape((28, 28))\n",
    "\n",
    "matplotlib.pyplot.imshow(image_array, cmap = 'Greys', interpolation='None')\n"
   ]
  },
  {
   "cell_type": "code",
   "execution_count": 56,
   "id": "3327b56e",
   "metadata": {},
   "outputs": [
    {
     "name": "stdout",
     "output_type": "stream",
     "text": [
      "Predicted digit: 7\n"
     ]
    },
    {
     "data": {
      "text/plain": [
       "array([[0.00795231],\n",
       "       [0.00883851],\n",
       "       [0.00666853],\n",
       "       [0.0028966 ],\n",
       "       [0.0042772 ],\n",
       "       [0.00380474],\n",
       "       [0.00792377],\n",
       "       [0.99689405],\n",
       "       [0.0018761 ],\n",
       "       [0.00374523]])"
      ]
     },
     "execution_count": 56,
     "metadata": {},
     "output_type": "execute_result"
    }
   ],
   "source": [
    "output = n.query((numpy.asfarray(all_values[1:]) / 255.0 * 0.99) + 0.01)\n",
    "prediction = numpy.argmax(output)\n",
    "print(\"Predicted digit:\", prediction)\n",
    "\n",
    "\n",
    "n.query((numpy.asfarray(all_values[1:]) / 255.0 * 0.99) + 0.01)\n",
    "\n",
    "# Highest confidence is largets number at index 7!\n"
   ]
  },
  {
   "cell_type": "code",
   "execution_count": 57,
   "id": "1c81b7ac",
   "metadata": {},
   "outputs": [
    {
     "name": "stdout",
     "output_type": "stream",
     "text": [
      "10000\n"
     ]
    }
   ],
   "source": [
    "print(len(test_data_list))"
   ]
  },
  {
   "cell_type": "code",
   "execution_count": null,
   "id": "74f9e200",
   "metadata": {},
   "outputs": [],
   "source": []
  }
 ],
 "metadata": {
  "kernelspec": {
   "display_name": "Python 3 (ipykernel)",
   "language": "python",
   "name": "python3"
  },
  "language_info": {
   "codemirror_mode": {
    "name": "ipython",
    "version": 3
   },
   "file_extension": ".py",
   "mimetype": "text/x-python",
   "name": "python",
   "nbconvert_exporter": "python",
   "pygments_lexer": "ipython3",
   "version": "3.11.2"
  }
 },
 "nbformat": 4,
 "nbformat_minor": 5
}
